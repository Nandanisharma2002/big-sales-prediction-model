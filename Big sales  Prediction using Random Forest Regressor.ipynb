{
 "cells": [
  {
   "cell_type": "markdown",
   "id": "3e563d5f",
   "metadata": {},
   "source": [
    "## import Library"
   ]
  },
  {
   "cell_type": "code",
   "execution_count": 301,
   "id": "81c133fc",
   "metadata": {},
   "outputs": [],
   "source": [
    "import numpy as np \n",
    "import pandas as pd \n",
    "import seaborn as sns \n",
    "import matplotlib.pyplot as plt \n",
    "import warnings \n",
    "warnings.filterwarnings('ignore')"
   ]
  },
  {
   "cell_type": "markdown",
   "id": "0960252e",
   "metadata": {},
   "source": [
    "## import dataset"
   ]
  },
  {
   "cell_type": "code",
   "execution_count": 302,
   "id": "88c42469",
   "metadata": {},
   "outputs": [],
   "source": [
    "data = pd.read_csv('Big Sales Data.csv')"
   ]
  },
  {
   "cell_type": "markdown",
   "id": "02620522",
   "metadata": {},
   "source": [
    "## Understanding of data"
   ]
  },
  {
   "cell_type": "code",
   "execution_count": 303,
   "id": "73804fc5",
   "metadata": {},
   "outputs": [
    {
     "data": {
      "text/html": [
       "<div>\n",
       "<style scoped>\n",
       "    .dataframe tbody tr th:only-of-type {\n",
       "        vertical-align: middle;\n",
       "    }\n",
       "\n",
       "    .dataframe tbody tr th {\n",
       "        vertical-align: top;\n",
       "    }\n",
       "\n",
       "    .dataframe thead th {\n",
       "        text-align: right;\n",
       "    }\n",
       "</style>\n",
       "<table border=\"1\" class=\"dataframe\">\n",
       "  <thead>\n",
       "    <tr style=\"text-align: right;\">\n",
       "      <th></th>\n",
       "      <th>Item_Identifier</th>\n",
       "      <th>Item_Weight</th>\n",
       "      <th>Item_Fat_Content</th>\n",
       "      <th>Item_Visibility</th>\n",
       "      <th>Item_Type</th>\n",
       "      <th>Item_MRP</th>\n",
       "      <th>Outlet_Identifier</th>\n",
       "      <th>Outlet_Establishment_Year</th>\n",
       "      <th>Outlet_Size</th>\n",
       "      <th>Outlet_Location_Type</th>\n",
       "      <th>Outlet_Type</th>\n",
       "      <th>Item_Outlet_Sales</th>\n",
       "    </tr>\n",
       "  </thead>\n",
       "  <tbody>\n",
       "    <tr>\n",
       "      <th>0</th>\n",
       "      <td>FDT36</td>\n",
       "      <td>12.3</td>\n",
       "      <td>Low Fat</td>\n",
       "      <td>0.111448</td>\n",
       "      <td>Baking Goods</td>\n",
       "      <td>33.4874</td>\n",
       "      <td>OUT049</td>\n",
       "      <td>1999</td>\n",
       "      <td>Medium</td>\n",
       "      <td>Tier 1</td>\n",
       "      <td>Supermarket Type1</td>\n",
       "      <td>436.608721</td>\n",
       "    </tr>\n",
       "    <tr>\n",
       "      <th>1</th>\n",
       "      <td>FDT36</td>\n",
       "      <td>12.3</td>\n",
       "      <td>Low Fat</td>\n",
       "      <td>0.111904</td>\n",
       "      <td>Baking Goods</td>\n",
       "      <td>33.9874</td>\n",
       "      <td>OUT017</td>\n",
       "      <td>2007</td>\n",
       "      <td>Medium</td>\n",
       "      <td>Tier 2</td>\n",
       "      <td>Supermarket Type1</td>\n",
       "      <td>443.127721</td>\n",
       "    </tr>\n",
       "    <tr>\n",
       "      <th>2</th>\n",
       "      <td>FDT36</td>\n",
       "      <td>12.3</td>\n",
       "      <td>LF</td>\n",
       "      <td>0.111728</td>\n",
       "      <td>Baking Goods</td>\n",
       "      <td>33.9874</td>\n",
       "      <td>OUT018</td>\n",
       "      <td>2009</td>\n",
       "      <td>Medium</td>\n",
       "      <td>Tier 3</td>\n",
       "      <td>Supermarket Type2</td>\n",
       "      <td>564.598400</td>\n",
       "    </tr>\n",
       "    <tr>\n",
       "      <th>3</th>\n",
       "      <td>FDT36</td>\n",
       "      <td>12.3</td>\n",
       "      <td>Low Fat</td>\n",
       "      <td>0.000000</td>\n",
       "      <td>Baking Goods</td>\n",
       "      <td>34.3874</td>\n",
       "      <td>OUT019</td>\n",
       "      <td>1985</td>\n",
       "      <td>Small</td>\n",
       "      <td>Tier 1</td>\n",
       "      <td>Grocery Store</td>\n",
       "      <td>1719.370000</td>\n",
       "    </tr>\n",
       "  </tbody>\n",
       "</table>\n",
       "</div>"
      ],
      "text/plain": [
       "  Item_Identifier  Item_Weight Item_Fat_Content  Item_Visibility  \\\n",
       "0           FDT36         12.3          Low Fat         0.111448   \n",
       "1           FDT36         12.3          Low Fat         0.111904   \n",
       "2           FDT36         12.3               LF         0.111728   \n",
       "3           FDT36         12.3          Low Fat         0.000000   \n",
       "\n",
       "      Item_Type  Item_MRP Outlet_Identifier  Outlet_Establishment_Year  \\\n",
       "0  Baking Goods   33.4874            OUT049                       1999   \n",
       "1  Baking Goods   33.9874            OUT017                       2007   \n",
       "2  Baking Goods   33.9874            OUT018                       2009   \n",
       "3  Baking Goods   34.3874            OUT019                       1985   \n",
       "\n",
       "  Outlet_Size Outlet_Location_Type        Outlet_Type  Item_Outlet_Sales  \n",
       "0      Medium               Tier 1  Supermarket Type1         436.608721  \n",
       "1      Medium               Tier 2  Supermarket Type1         443.127721  \n",
       "2      Medium               Tier 3  Supermarket Type2         564.598400  \n",
       "3       Small               Tier 1      Grocery Store        1719.370000  "
      ]
     },
     "execution_count": 303,
     "metadata": {},
     "output_type": "execute_result"
    }
   ],
   "source": [
    "data.head(4)"
   ]
  },
  {
   "cell_type": "code",
   "execution_count": 304,
   "id": "c747a2de",
   "metadata": {},
   "outputs": [
    {
     "name": "stdout",
     "output_type": "stream",
     "text": [
      "no of rows 14204\n",
      "no of columns 12\n"
     ]
    }
   ],
   "source": [
    "rows,columns=data.shape\n",
    "print('no of rows', rows)\n",
    "print('no of columns', columns)\n",
    "# there are 14204 rows and 12 columns "
   ]
  },
  {
   "cell_type": "code",
   "execution_count": 305,
   "id": "25eafcd4",
   "metadata": {},
   "outputs": [
    {
     "name": "stdout",
     "output_type": "stream",
     "text": [
      "data type of variables\n",
      " Item_Identifier               object\n",
      "Item_Weight                  float64\n",
      "Item_Fat_Content              object\n",
      "Item_Visibility              float64\n",
      "Item_Type                     object\n",
      "Item_MRP                     float64\n",
      "Outlet_Identifier             object\n",
      "Outlet_Establishment_Year      int64\n",
      "Outlet_Size                   object\n",
      "Outlet_Location_Type          object\n",
      "Outlet_Type                   object\n",
      "Item_Outlet_Sales            float64\n",
      "dtype: object\n"
     ]
    }
   ],
   "source": [
    "print('data type of variables\\n',data.dtypes)"
   ]
  },
  {
   "cell_type": "code",
   "execution_count": 306,
   "id": "d5fec6e4",
   "metadata": {},
   "outputs": [
    {
     "name": "stdout",
     "output_type": "stream",
     "text": [
      "categorical column Index(['Item_Identifier', 'Item_Fat_Content', 'Item_Type', 'Outlet_Identifier',\n",
      "       'Outlet_Size', 'Outlet_Location_Type', 'Outlet_Type'],\n",
      "      dtype='object')\n",
      "numerical column Index(['Item_Weight', 'Item_Visibility', 'Item_MRP',\n",
      "       'Outlet_Establishment_Year', 'Item_Outlet_Sales'],\n",
      "      dtype='object')\n"
     ]
    }
   ],
   "source": [
    "cat_col=data.select_dtypes(object).columns\n",
    "num_col=data.select_dtypes(np.number).columns\n",
    "print('categorical column',cat_col)\n",
    "print('numerical column',num_col)"
   ]
  },
  {
   "cell_type": "code",
   "execution_count": 307,
   "id": "68bb334f",
   "metadata": {},
   "outputs": [
    {
     "name": "stdout",
     "output_type": "stream",
     "text": [
      "<class 'pandas.core.frame.DataFrame'>\n",
      "RangeIndex: 14204 entries, 0 to 14203\n",
      "Data columns (total 12 columns):\n",
      " #   Column                     Non-Null Count  Dtype  \n",
      "---  ------                     --------------  -----  \n",
      " 0   Item_Identifier            14204 non-null  object \n",
      " 1   Item_Weight                11815 non-null  float64\n",
      " 2   Item_Fat_Content           14204 non-null  object \n",
      " 3   Item_Visibility            14204 non-null  float64\n",
      " 4   Item_Type                  14204 non-null  object \n",
      " 5   Item_MRP                   14204 non-null  float64\n",
      " 6   Outlet_Identifier          14204 non-null  object \n",
      " 7   Outlet_Establishment_Year  14204 non-null  int64  \n",
      " 8   Outlet_Size                14204 non-null  object \n",
      " 9   Outlet_Location_Type       14204 non-null  object \n",
      " 10  Outlet_Type                14204 non-null  object \n",
      " 11  Item_Outlet_Sales          14204 non-null  float64\n",
      "dtypes: float64(4), int64(1), object(7)\n",
      "memory usage: 1.3+ MB\n"
     ]
    }
   ],
   "source": [
    "data.info()"
   ]
  },
  {
   "cell_type": "code",
   "execution_count": 308,
   "id": "9911eed6",
   "metadata": {},
   "outputs": [],
   "source": [
    "# there are missing values in the column Item_weight"
   ]
  },
  {
   "cell_type": "code",
   "execution_count": 309,
   "id": "9ebaec62",
   "metadata": {},
   "outputs": [
    {
     "data": {
      "text/plain": [
       "Item_Identifier                 0\n",
       "Item_Weight                  2389\n",
       "Item_Fat_Content                0\n",
       "Item_Visibility                 0\n",
       "Item_Type                       0\n",
       "Item_MRP                        0\n",
       "Outlet_Identifier               0\n",
       "Outlet_Establishment_Year       0\n",
       "Outlet_Size                     0\n",
       "Outlet_Location_Type            0\n",
       "Outlet_Type                     0\n",
       "Item_Outlet_Sales               0\n",
       "dtype: int64"
      ]
     },
     "execution_count": 309,
     "metadata": {},
     "output_type": "execute_result"
    }
   ],
   "source": [
    "data.isnull().sum()\n",
    "# here it shows that there are 2389 missing values"
   ]
  },
  {
   "cell_type": "code",
   "execution_count": 310,
   "id": "05a4cee8",
   "metadata": {},
   "outputs": [
    {
     "data": {
      "text/html": [
       "<div>\n",
       "<style scoped>\n",
       "    .dataframe tbody tr th:only-of-type {\n",
       "        vertical-align: middle;\n",
       "    }\n",
       "\n",
       "    .dataframe tbody tr th {\n",
       "        vertical-align: top;\n",
       "    }\n",
       "\n",
       "    .dataframe thead th {\n",
       "        text-align: right;\n",
       "    }\n",
       "</style>\n",
       "<table border=\"1\" class=\"dataframe\">\n",
       "  <thead>\n",
       "    <tr style=\"text-align: right;\">\n",
       "      <th></th>\n",
       "      <th>count</th>\n",
       "      <th>mean</th>\n",
       "      <th>std</th>\n",
       "      <th>min</th>\n",
       "      <th>25%</th>\n",
       "      <th>50%</th>\n",
       "      <th>75%</th>\n",
       "      <th>max</th>\n",
       "    </tr>\n",
       "  </thead>\n",
       "  <tbody>\n",
       "    <tr>\n",
       "      <th>Item_Weight</th>\n",
       "      <td>11815.0</td>\n",
       "      <td>12.788355</td>\n",
       "      <td>4.654126</td>\n",
       "      <td>4.555</td>\n",
       "      <td>8.710000</td>\n",
       "      <td>12.500000</td>\n",
       "      <td>16.750000</td>\n",
       "      <td>30.000000</td>\n",
       "    </tr>\n",
       "    <tr>\n",
       "      <th>Item_Visibility</th>\n",
       "      <td>14204.0</td>\n",
       "      <td>0.065953</td>\n",
       "      <td>0.051459</td>\n",
       "      <td>0.000</td>\n",
       "      <td>0.027036</td>\n",
       "      <td>0.054021</td>\n",
       "      <td>0.094037</td>\n",
       "      <td>0.328391</td>\n",
       "    </tr>\n",
       "    <tr>\n",
       "      <th>Item_MRP</th>\n",
       "      <td>14204.0</td>\n",
       "      <td>141.004977</td>\n",
       "      <td>62.086938</td>\n",
       "      <td>31.290</td>\n",
       "      <td>94.012000</td>\n",
       "      <td>142.247000</td>\n",
       "      <td>185.855600</td>\n",
       "      <td>266.888400</td>\n",
       "    </tr>\n",
       "    <tr>\n",
       "      <th>Outlet_Establishment_Year</th>\n",
       "      <td>14204.0</td>\n",
       "      <td>1997.830681</td>\n",
       "      <td>8.371664</td>\n",
       "      <td>1985.000</td>\n",
       "      <td>1987.000000</td>\n",
       "      <td>1999.000000</td>\n",
       "      <td>2004.000000</td>\n",
       "      <td>2009.000000</td>\n",
       "    </tr>\n",
       "    <tr>\n",
       "      <th>Item_Outlet_Sales</th>\n",
       "      <td>14204.0</td>\n",
       "      <td>2185.836320</td>\n",
       "      <td>1827.479550</td>\n",
       "      <td>33.290</td>\n",
       "      <td>922.135101</td>\n",
       "      <td>1768.287680</td>\n",
       "      <td>2988.110400</td>\n",
       "      <td>31224.726950</td>\n",
       "    </tr>\n",
       "  </tbody>\n",
       "</table>\n",
       "</div>"
      ],
      "text/plain": [
       "                             count         mean          std       min  \\\n",
       "Item_Weight                11815.0    12.788355     4.654126     4.555   \n",
       "Item_Visibility            14204.0     0.065953     0.051459     0.000   \n",
       "Item_MRP                   14204.0   141.004977    62.086938    31.290   \n",
       "Outlet_Establishment_Year  14204.0  1997.830681     8.371664  1985.000   \n",
       "Item_Outlet_Sales          14204.0  2185.836320  1827.479550    33.290   \n",
       "\n",
       "                                   25%          50%          75%           max  \n",
       "Item_Weight                   8.710000    12.500000    16.750000     30.000000  \n",
       "Item_Visibility               0.027036     0.054021     0.094037      0.328391  \n",
       "Item_MRP                     94.012000   142.247000   185.855600    266.888400  \n",
       "Outlet_Establishment_Year  1987.000000  1999.000000  2004.000000   2009.000000  \n",
       "Item_Outlet_Sales           922.135101  1768.287680  2988.110400  31224.726950  "
      ]
     },
     "execution_count": 310,
     "metadata": {},
     "output_type": "execute_result"
    }
   ],
   "source": [
    "data.describe().T"
   ]
  },
  {
   "cell_type": "code",
   "execution_count": 311,
   "id": "2c0375df",
   "metadata": {},
   "outputs": [
    {
     "data": {
      "text/html": [
       "<div>\n",
       "<style scoped>\n",
       "    .dataframe tbody tr th:only-of-type {\n",
       "        vertical-align: middle;\n",
       "    }\n",
       "\n",
       "    .dataframe tbody tr th {\n",
       "        vertical-align: top;\n",
       "    }\n",
       "\n",
       "    .dataframe thead th {\n",
       "        text-align: right;\n",
       "    }\n",
       "</style>\n",
       "<table border=\"1\" class=\"dataframe\">\n",
       "  <thead>\n",
       "    <tr style=\"text-align: right;\">\n",
       "      <th></th>\n",
       "      <th>count</th>\n",
       "      <th>unique</th>\n",
       "      <th>top</th>\n",
       "      <th>freq</th>\n",
       "    </tr>\n",
       "  </thead>\n",
       "  <tbody>\n",
       "    <tr>\n",
       "      <th>Item_Identifier</th>\n",
       "      <td>14204</td>\n",
       "      <td>1559</td>\n",
       "      <td>FDT36</td>\n",
       "      <td>10</td>\n",
       "    </tr>\n",
       "    <tr>\n",
       "      <th>Item_Fat_Content</th>\n",
       "      <td>14204</td>\n",
       "      <td>5</td>\n",
       "      <td>Low Fat</td>\n",
       "      <td>8485</td>\n",
       "    </tr>\n",
       "    <tr>\n",
       "      <th>Item_Type</th>\n",
       "      <td>14204</td>\n",
       "      <td>16</td>\n",
       "      <td>Fruits and Vegetables</td>\n",
       "      <td>2013</td>\n",
       "    </tr>\n",
       "    <tr>\n",
       "      <th>Outlet_Identifier</th>\n",
       "      <td>14204</td>\n",
       "      <td>10</td>\n",
       "      <td>OUT027</td>\n",
       "      <td>1559</td>\n",
       "    </tr>\n",
       "    <tr>\n",
       "      <th>Outlet_Size</th>\n",
       "      <td>14204</td>\n",
       "      <td>3</td>\n",
       "      <td>Medium</td>\n",
       "      <td>7122</td>\n",
       "    </tr>\n",
       "    <tr>\n",
       "      <th>Outlet_Location_Type</th>\n",
       "      <td>14204</td>\n",
       "      <td>3</td>\n",
       "      <td>Tier 3</td>\n",
       "      <td>5583</td>\n",
       "    </tr>\n",
       "    <tr>\n",
       "      <th>Outlet_Type</th>\n",
       "      <td>14204</td>\n",
       "      <td>4</td>\n",
       "      <td>Supermarket Type1</td>\n",
       "      <td>9294</td>\n",
       "    </tr>\n",
       "  </tbody>\n",
       "</table>\n",
       "</div>"
      ],
      "text/plain": [
       "                      count unique                    top  freq\n",
       "Item_Identifier       14204   1559                  FDT36    10\n",
       "Item_Fat_Content      14204      5                Low Fat  8485\n",
       "Item_Type             14204     16  Fruits and Vegetables  2013\n",
       "Outlet_Identifier     14204     10                 OUT027  1559\n",
       "Outlet_Size           14204      3                 Medium  7122\n",
       "Outlet_Location_Type  14204      3                 Tier 3  5583\n",
       "Outlet_Type           14204      4      Supermarket Type1  9294"
      ]
     },
     "execution_count": 311,
     "metadata": {},
     "output_type": "execute_result"
    }
   ],
   "source": [
    "data.describe(include=object).T"
   ]
  },
  {
   "cell_type": "code",
   "execution_count": 312,
   "id": "cd317b09",
   "metadata": {},
   "outputs": [],
   "source": [
    "data['Item_Weight'].fillna(data.groupby(['Item_Type'])['Item_Weight'].transform('mean'), inplace=True)"
   ]
  },
  {
   "cell_type": "code",
   "execution_count": 313,
   "id": "d46a71ad",
   "metadata": {},
   "outputs": [
    {
     "data": {
      "text/plain": [
       "<Axes: >"
      ]
     },
     "execution_count": 313,
     "metadata": {},
     "output_type": "execute_result"
    },
    {
     "data": {
      "image/png": "[encoded data removed]",
      "text/plain": [
       "<Figure size 640x480 with 2 Axes>"
      ]
     },
     "metadata": {},
     "output_type": "display_data"
    }
   ],
   "source": [
    "sns.heatmap(data[num_col].corr(),vmin=-1,vmax=1,annot=True,cmap='rainbow')"
   ]
  },
  {
   "cell_type": "code",
   "execution_count": 314,
   "id": "0e6773b4",
   "metadata": {},
   "outputs": [
    {
     "data": {
      "text/plain": [
       "5"
      ]
     },
     "execution_count": 314,
     "metadata": {},
     "output_type": "execute_result"
    }
   ],
   "source": [
    "len(num_col)"
   ]
  },
  {
   "cell_type": "code",
   "execution_count": 315,
   "id": "a912f6e3",
   "metadata": {},
   "outputs": [
    {
     "data": {
      "image/png": "[encoded data removed]",
      "text/plain": [
       "<Figure size 1000x1000 with 5 Axes>"
      ]
     },
     "metadata": {},
     "output_type": "display_data"
    }
   ],
   "source": [
    "t=1\n",
    "plt.figure(figsize=(10,10))\n",
    "for i in num_col:\n",
    "    plt.subplot(2,3,t)\n",
    "    sns.boxplot(data[i])\n",
    "    plt.xlabel(i)\n",
    "    t+=1\n",
    "plt.tight_layout()\n",
    "plt.show()"
   ]
  },
  {
   "cell_type": "code",
   "execution_count": 316,
   "id": "229c9937",
   "metadata": {},
   "outputs": [
    {
     "data": {
      "image/png": "[encoded data removed]",
      "text/plain": [
       "<Figure size 1000x1000 with 5 Axes>"
      ]
     },
     "metadata": {},
     "output_type": "display_data"
    }
   ],
   "source": [
    "t=1\n",
    "plt.figure(figsize=(10,10))\n",
    "for i in num_col:\n",
    "    plt.subplot(2,3,t)\n",
    "    sns.distplot(data[i])\n",
    "    plt.xlabel(i)\n",
    "    t+=1\n",
    "plt.tight_layout()\n",
    "plt.show()"
   ]
  },
  {
   "cell_type": "code",
   "execution_count": 317,
   "id": "1f8128e6",
   "metadata": {},
   "outputs": [
    {
     "data": {
      "text/plain": [
       "Index(['Item_Identifier', 'Item_Weight', 'Item_Fat_Content', 'Item_Visibility',\n",
       "       'Item_Type', 'Item_MRP', 'Outlet_Identifier',\n",
       "       'Outlet_Establishment_Year', 'Outlet_Size', 'Outlet_Location_Type',\n",
       "       'Outlet_Type', 'Item_Outlet_Sales'],\n",
       "      dtype='object')"
      ]
     },
     "execution_count": 317,
     "metadata": {},
     "output_type": "execute_result"
    }
   ],
   "source": [
    "data.columns"
   ]
  },
  {
   "cell_type": "markdown",
   "id": "bf38b44a",
   "metadata": {},
   "source": [
    "# Get categories and counts of categorical variables"
   ]
  },
  {
   "cell_type": "code",
   "execution_count": 318,
   "id": "7b88f7d1",
   "metadata": {},
   "outputs": [
    {
     "data": {
      "text/plain": [
       "Item_Identifier\n",
       "FDT36    10\n",
       "FDG09    10\n",
       "FDZ56    10\n",
       "FDT19    10\n",
       "FDD56    10\n",
       "         ..\n",
       "NCW54     7\n",
       "FDS22     7\n",
       "FDM50     7\n",
       "FDX49     7\n",
       "DRN11     7\n",
       "Name: count, Length: 1559, dtype: int64"
      ]
     },
     "execution_count": 318,
     "metadata": {},
     "output_type": "execute_result"
    }
   ],
   "source": [
    "data['Item_Identifier'].value_counts()"
   ]
  },
  {
   "cell_type": "code",
   "execution_count": 319,
   "id": "ef186ea4",
   "metadata": {},
   "outputs": [
    {
     "data": {
      "text/plain": [
       "Item_Fat_Content\n",
       "Low Fat    8485\n",
       "Regular    4824\n",
       "LF          522\n",
       "reg         195\n",
       "low fat     178\n",
       "Name: count, dtype: int64"
      ]
     },
     "execution_count": 319,
     "metadata": {},
     "output_type": "execute_result"
    }
   ],
   "source": [
    "data['Item_Fat_Content'].value_counts()"
   ]
  },
  {
   "cell_type": "code",
   "execution_count": 320,
   "id": "17db825f",
   "metadata": {},
   "outputs": [],
   "source": [
    "data.replace({'Item_Fat_Content': {'low fat':'Low Fat','reg':'Regular','LF':'Low Fat'}},inplace=True)"
   ]
  },
  {
   "cell_type": "code",
   "execution_count": 321,
   "id": "1c04e257",
   "metadata": {},
   "outputs": [
    {
     "data": {
      "text/plain": [
       "Item_Fat_Content\n",
       "Low Fat    9185\n",
       "Regular    5019\n",
       "Name: count, dtype: int64"
      ]
     },
     "execution_count": 321,
     "metadata": {},
     "output_type": "execute_result"
    }
   ],
   "source": [
    "data['Item_Fat_Content'].value_counts()"
   ]
  },
  {
   "cell_type": "code",
   "execution_count": 322,
   "id": "a0546699",
   "metadata": {},
   "outputs": [],
   "source": [
    "data.replace({'Item_Fat_Content': {'Low Fat':0, 'Regular': 1}}, inplace=True)"
   ]
  },
  {
   "cell_type": "code",
   "execution_count": 323,
   "id": "69c31e7d",
   "metadata": {},
   "outputs": [
    {
     "data": {
      "text/plain": [
       "Item_Type            \n",
       "Fruits and Vegetables    2013\n",
       "Snack Foods              1989\n",
       "Household                1548\n",
       "Frozen Foods             1426\n",
       "Dairy                    1136\n",
       "Baking Goods             1086\n",
       "Canned                   1084\n",
       "Health and Hygiene        858\n",
       "Meat                      736\n",
       "Soft Drinks               726\n",
       "Breads                    416\n",
       "Hard Drinks               362\n",
       "Others                    280\n",
       "Starchy Foods             269\n",
       "Breakfast                 186\n",
       "Seafood                    89\n",
       "Name: count, dtype: int64"
      ]
     },
     "execution_count": 323,
     "metadata": {},
     "output_type": "execute_result"
    }
   ],
   "source": [
    "data[['Item_Type']].value_counts()"
   ]
  },
  {
   "cell_type": "code",
   "execution_count": 324,
   "id": "8f67a9ab",
   "metadata": {},
   "outputs": [],
   "source": [
    "data['Item_Type'].replace({'Fruits and Vegetables': 0, 'Snack Foods': 0, 'Household': 1, 'Frozen Foods': 0, 'Dairy': 0, \n",
    "                           'Baking Goods': 0, 'Canned': 0, 'Health and Hygiene': 1, 'Meat': 0, 'Soft Drinks': 0, 'Breads': 0, 'Hard Drinks': 0, 'Others': 2,\n",
    "                           'Starchy Foods': 0, 'Breakfast': 0, 'Seafood': 0}, inplace=True)"
   ]
  },
  {
   "cell_type": "code",
   "execution_count": 325,
   "id": "929b8328",
   "metadata": {},
   "outputs": [
    {
     "data": {
      "text/plain": [
       "Item_Type\n",
       "0    11518\n",
       "1     2406\n",
       "2      280\n",
       "Name: count, dtype: int64"
      ]
     },
     "execution_count": 325,
     "metadata": {},
     "output_type": "execute_result"
    }
   ],
   "source": [
    "data['Item_Type'].value_counts()"
   ]
  },
  {
   "cell_type": "code",
   "execution_count": 326,
   "id": "7d8144f7",
   "metadata": {},
   "outputs": [
    {
     "data": {
      "text/plain": [
       "Outlet_Identifier\n",
       "OUT027    1559\n",
       "OUT013    1553\n",
       "OUT049    1550\n",
       "OUT046    1550\n",
       "OUT035    1550\n",
       "OUT045    1548\n",
       "OUT018    1546\n",
       "OUT017    1543\n",
       "OUT010     925\n",
       "OUT019     880\n",
       "Name: count, dtype: int64"
      ]
     },
     "execution_count": 326,
     "metadata": {},
     "output_type": "execute_result"
    }
   ],
   "source": [
    "data['Outlet_Identifier'].value_counts()"
   ]
  },
  {
   "cell_type": "code",
   "execution_count": 327,
   "id": "bfe2ccf6",
   "metadata": {},
   "outputs": [],
   "source": [
    "data['Outlet_Identifier'].replace({'OUT027' : 0, 'OUT013' : 1, 'OUT049' : 2, \n",
    "                                   'OUT046' : 3, 'OUT035' : 4, 'OUT045' : 5, \n",
    "                                   'OUT018' : 6, 'OUT017' : 7, \n",
    "                                   'OUT010' : 8, 'OUT019' : 9  }, inplace=True)"
   ]
  },
  {
   "cell_type": "code",
   "execution_count": 328,
   "id": "33866a55",
   "metadata": {},
   "outputs": [
    {
     "data": {
      "text/plain": [
       "Outlet_Identifier\n",
       "0    1559\n",
       "1    1553\n",
       "2    1550\n",
       "3    1550\n",
       "4    1550\n",
       "5    1548\n",
       "6    1546\n",
       "7    1543\n",
       "8     925\n",
       "9     880\n",
       "Name: count, dtype: int64"
      ]
     },
     "execution_count": 328,
     "metadata": {},
     "output_type": "execute_result"
    }
   ],
   "source": [
    "data['Outlet_Identifier'].value_counts()"
   ]
  },
  {
   "cell_type": "code",
   "execution_count": 329,
   "id": "4204d34a",
   "metadata": {},
   "outputs": [
    {
     "data": {
      "text/plain": [
       "Outlet_Type\n",
       "Supermarket Type1    9294\n",
       "Grocery Store        1805\n",
       "Supermarket Type3    1559\n",
       "Supermarket Type2    1546\n",
       "Name: count, dtype: int64"
      ]
     },
     "execution_count": 329,
     "metadata": {},
     "output_type": "execute_result"
    }
   ],
   "source": [
    "data['Outlet_Type'].value_counts()"
   ]
  },
  {
   "cell_type": "code",
   "execution_count": 330,
   "id": "3dcf5691",
   "metadata": {},
   "outputs": [],
   "source": [
    "data['Outlet_Type'].replace({  'Grocery Store'  : 0,\n",
    "                            'Supermarket Type1' : 1,\n",
    "                             'Supermarket Type2' : 2,\n",
    "                             'Supermarket Type3' : 3,\n",
    "                              }, inplace= True)"
   ]
  },
  {
   "cell_type": "code",
   "execution_count": 331,
   "id": "45167b86",
   "metadata": {},
   "outputs": [
    {
     "data": {
      "text/plain": [
       "Outlet_Type\n",
       "1    9294\n",
       "0    1805\n",
       "3    1559\n",
       "2    1546\n",
       "Name: count, dtype: int64"
      ]
     },
     "execution_count": 331,
     "metadata": {},
     "output_type": "execute_result"
    }
   ],
   "source": [
    "data['Outlet_Type'].value_counts()"
   ]
  },
  {
   "cell_type": "code",
   "execution_count": 332,
   "id": "cb9fb620",
   "metadata": {},
   "outputs": [
    {
     "data": {
      "text/plain": [
       "Outlet_Size\n",
       "Medium    7122\n",
       "Small     5529\n",
       "High      1553\n",
       "Name: count, dtype: int64"
      ]
     },
     "execution_count": 332,
     "metadata": {},
     "output_type": "execute_result"
    }
   ],
   "source": [
    "data['Outlet_Size'].value_counts()"
   ]
  },
  {
   "cell_type": "code",
   "execution_count": 333,
   "id": "022a4e1a",
   "metadata": {},
   "outputs": [],
   "source": [
    "data['Outlet_Size'].replace({ 'Small'  : 0,\n",
    "                              'Medium'  : 1,\n",
    "                              'High'    : 2 }, inplace=True)\n",
    "                             "
   ]
  },
  {
   "cell_type": "code",
   "execution_count": 334,
   "id": "8451acf0",
   "metadata": {},
   "outputs": [],
   "source": [
    "data['Outlet_Location_Type'].replace({'Tier 3' : 0,\n",
    "                                      'Tier 2'  : 1 ,\n",
    "                                       'Tier 1' :2}, inplace=True)"
   ]
  },
  {
   "cell_type": "code",
   "execution_count": 335,
   "id": "54950399",
   "metadata": {},
   "outputs": [
    {
     "data": {
      "text/plain": [
       "Outlet_Location_Type\n",
       "0    5583\n",
       "1    4641\n",
       "2    3980\n",
       "Name: count, dtype: int64"
      ]
     },
     "execution_count": 335,
     "metadata": {},
     "output_type": "execute_result"
    }
   ],
   "source": [
    "data['Outlet_Location_Type'].value_counts()"
   ]
  },
  {
   "cell_type": "code",
   "execution_count": 336,
   "id": "ce4b01cb",
   "metadata": {},
   "outputs": [
    {
     "data": {
      "text/html": [
       "<div>\n",
       "<style scoped>\n",
       "    .dataframe tbody tr th:only-of-type {\n",
       "        vertical-align: middle;\n",
       "    }\n",
       "\n",
       "    .dataframe tbody tr th {\n",
       "        vertical-align: top;\n",
       "    }\n",
       "\n",
       "    .dataframe thead th {\n",
       "        text-align: right;\n",
       "    }\n",
       "</style>\n",
       "<table border=\"1\" class=\"dataframe\">\n",
       "  <thead>\n",
       "    <tr style=\"text-align: right;\">\n",
       "      <th></th>\n",
       "      <th>Item_Identifier</th>\n",
       "      <th>Item_Weight</th>\n",
       "      <th>Item_Fat_Content</th>\n",
       "      <th>Item_Visibility</th>\n",
       "      <th>Item_Type</th>\n",
       "      <th>Item_MRP</th>\n",
       "      <th>Outlet_Identifier</th>\n",
       "      <th>Outlet_Establishment_Year</th>\n",
       "      <th>Outlet_Size</th>\n",
       "      <th>Outlet_Location_Type</th>\n",
       "      <th>Outlet_Type</th>\n",
       "      <th>Item_Outlet_Sales</th>\n",
       "    </tr>\n",
       "  </thead>\n",
       "  <tbody>\n",
       "    <tr>\n",
       "      <th>0</th>\n",
       "      <td>FDT36</td>\n",
       "      <td>12.300000</td>\n",
       "      <td>0</td>\n",
       "      <td>0.111448</td>\n",
       "      <td>0</td>\n",
       "      <td>33.4874</td>\n",
       "      <td>2</td>\n",
       "      <td>1999</td>\n",
       "      <td>1</td>\n",
       "      <td>2</td>\n",
       "      <td>1</td>\n",
       "      <td>436.608721</td>\n",
       "    </tr>\n",
       "    <tr>\n",
       "      <th>1</th>\n",
       "      <td>FDT36</td>\n",
       "      <td>12.300000</td>\n",
       "      <td>0</td>\n",
       "      <td>0.111904</td>\n",
       "      <td>0</td>\n",
       "      <td>33.9874</td>\n",
       "      <td>7</td>\n",
       "      <td>2007</td>\n",
       "      <td>1</td>\n",
       "      <td>1</td>\n",
       "      <td>1</td>\n",
       "      <td>443.127721</td>\n",
       "    </tr>\n",
       "    <tr>\n",
       "      <th>2</th>\n",
       "      <td>FDT36</td>\n",
       "      <td>12.300000</td>\n",
       "      <td>0</td>\n",
       "      <td>0.111728</td>\n",
       "      <td>0</td>\n",
       "      <td>33.9874</td>\n",
       "      <td>6</td>\n",
       "      <td>2009</td>\n",
       "      <td>1</td>\n",
       "      <td>0</td>\n",
       "      <td>2</td>\n",
       "      <td>564.598400</td>\n",
       "    </tr>\n",
       "    <tr>\n",
       "      <th>3</th>\n",
       "      <td>FDT36</td>\n",
       "      <td>12.300000</td>\n",
       "      <td>0</td>\n",
       "      <td>0.000000</td>\n",
       "      <td>0</td>\n",
       "      <td>34.3874</td>\n",
       "      <td>9</td>\n",
       "      <td>1985</td>\n",
       "      <td>0</td>\n",
       "      <td>2</td>\n",
       "      <td>0</td>\n",
       "      <td>1719.370000</td>\n",
       "    </tr>\n",
       "    <tr>\n",
       "      <th>4</th>\n",
       "      <td>FDP12</td>\n",
       "      <td>9.800000</td>\n",
       "      <td>1</td>\n",
       "      <td>0.045523</td>\n",
       "      <td>0</td>\n",
       "      <td>35.0874</td>\n",
       "      <td>7</td>\n",
       "      <td>2007</td>\n",
       "      <td>1</td>\n",
       "      <td>1</td>\n",
       "      <td>1</td>\n",
       "      <td>352.874000</td>\n",
       "    </tr>\n",
       "    <tr>\n",
       "      <th>...</th>\n",
       "      <td>...</td>\n",
       "      <td>...</td>\n",
       "      <td>...</td>\n",
       "      <td>...</td>\n",
       "      <td>...</td>\n",
       "      <td>...</td>\n",
       "      <td>...</td>\n",
       "      <td>...</td>\n",
       "      <td>...</td>\n",
       "      <td>...</td>\n",
       "      <td>...</td>\n",
       "      <td>...</td>\n",
       "    </tr>\n",
       "    <tr>\n",
       "      <th>14199</th>\n",
       "      <td>FDG47</td>\n",
       "      <td>12.800000</td>\n",
       "      <td>0</td>\n",
       "      <td>0.069606</td>\n",
       "      <td>0</td>\n",
       "      <td>261.9252</td>\n",
       "      <td>4</td>\n",
       "      <td>2004</td>\n",
       "      <td>0</td>\n",
       "      <td>1</td>\n",
       "      <td>1</td>\n",
       "      <td>4984.178800</td>\n",
       "    </tr>\n",
       "    <tr>\n",
       "      <th>14200</th>\n",
       "      <td>FDG47</td>\n",
       "      <td>12.800000</td>\n",
       "      <td>0</td>\n",
       "      <td>0.070013</td>\n",
       "      <td>0</td>\n",
       "      <td>262.8252</td>\n",
       "      <td>7</td>\n",
       "      <td>2007</td>\n",
       "      <td>1</td>\n",
       "      <td>1</td>\n",
       "      <td>1</td>\n",
       "      <td>2885.577200</td>\n",
       "    </tr>\n",
       "    <tr>\n",
       "      <th>14201</th>\n",
       "      <td>FDG47</td>\n",
       "      <td>12.800000</td>\n",
       "      <td>0</td>\n",
       "      <td>0.069561</td>\n",
       "      <td>0</td>\n",
       "      <td>263.0252</td>\n",
       "      <td>1</td>\n",
       "      <td>1987</td>\n",
       "      <td>2</td>\n",
       "      <td>0</td>\n",
       "      <td>1</td>\n",
       "      <td>2885.577200</td>\n",
       "    </tr>\n",
       "    <tr>\n",
       "      <th>14202</th>\n",
       "      <td>FDG47</td>\n",
       "      <td>13.659758</td>\n",
       "      <td>0</td>\n",
       "      <td>0.069282</td>\n",
       "      <td>0</td>\n",
       "      <td>263.5252</td>\n",
       "      <td>0</td>\n",
       "      <td>1985</td>\n",
       "      <td>1</td>\n",
       "      <td>0</td>\n",
       "      <td>3</td>\n",
       "      <td>3803.676434</td>\n",
       "    </tr>\n",
       "    <tr>\n",
       "      <th>14203</th>\n",
       "      <td>FDG47</td>\n",
       "      <td>12.800000</td>\n",
       "      <td>0</td>\n",
       "      <td>0.069727</td>\n",
       "      <td>0</td>\n",
       "      <td>263.6252</td>\n",
       "      <td>2</td>\n",
       "      <td>1999</td>\n",
       "      <td>1</td>\n",
       "      <td>2</td>\n",
       "      <td>1</td>\n",
       "      <td>3644.354765</td>\n",
       "    </tr>\n",
       "  </tbody>\n",
       "</table>\n",
       "<p>14204 rows × 12 columns</p>\n",
       "</div>"
      ],
      "text/plain": [
       "      Item_Identifier  Item_Weight  Item_Fat_Content  Item_Visibility  \\\n",
       "0               FDT36    12.300000                 0         0.111448   \n",
       "1               FDT36    12.300000                 0         0.111904   \n",
       "2               FDT36    12.300000                 0         0.111728   \n",
       "3               FDT36    12.300000                 0         0.000000   \n",
       "4               FDP12     9.800000                 1         0.045523   \n",
       "...               ...          ...               ...              ...   \n",
       "14199           FDG47    12.800000                 0         0.069606   \n",
       "14200           FDG47    12.800000                 0         0.070013   \n",
       "14201           FDG47    12.800000                 0         0.069561   \n",
       "14202           FDG47    13.659758                 0         0.069282   \n",
       "14203           FDG47    12.800000                 0         0.069727   \n",
       "\n",
       "       Item_Type  Item_MRP  Outlet_Identifier  Outlet_Establishment_Year  \\\n",
       "0              0   33.4874                  2                       1999   \n",
       "1              0   33.9874                  7                       2007   \n",
       "2              0   33.9874                  6                       2009   \n",
       "3              0   34.3874                  9                       1985   \n",
       "4              0   35.0874                  7                       2007   \n",
       "...          ...       ...                ...                        ...   \n",
       "14199          0  261.9252                  4                       2004   \n",
       "14200          0  262.8252                  7                       2007   \n",
       "14201          0  263.0252                  1                       1987   \n",
       "14202          0  263.5252                  0                       1985   \n",
       "14203          0  263.6252                  2                       1999   \n",
       "\n",
       "       Outlet_Size  Outlet_Location_Type  Outlet_Type  Item_Outlet_Sales  \n",
       "0                1                     2            1         436.608721  \n",
       "1                1                     1            1         443.127721  \n",
       "2                1                     0            2         564.598400  \n",
       "3                0                     2            0        1719.370000  \n",
       "4                1                     1            1         352.874000  \n",
       "...            ...                   ...          ...                ...  \n",
       "14199            0                     1            1        4984.178800  \n",
       "14200            1                     1            1        2885.577200  \n",
       "14201            2                     0            1        2885.577200  \n",
       "14202            1                     0            3        3803.676434  \n",
       "14203            1                     2            1        3644.354765  \n",
       "\n",
       "[14204 rows x 12 columns]"
      ]
     },
     "execution_count": 336,
     "metadata": {},
     "output_type": "execute_result"
    }
   ],
   "source": [
    "data"
   ]
  },
  {
   "cell_type": "code",
   "execution_count": 337,
   "id": "f779400b",
   "metadata": {},
   "outputs": [
    {
     "name": "stdout",
     "output_type": "stream",
     "text": [
      "<class 'pandas.core.frame.DataFrame'>\n",
      "RangeIndex: 14204 entries, 0 to 14203\n",
      "Data columns (total 12 columns):\n",
      " #   Column                     Non-Null Count  Dtype  \n",
      "---  ------                     --------------  -----  \n",
      " 0   Item_Identifier            14204 non-null  object \n",
      " 1   Item_Weight                14204 non-null  float64\n",
      " 2   Item_Fat_Content           14204 non-null  int64  \n",
      " 3   Item_Visibility            14204 non-null  float64\n",
      " 4   Item_Type                  14204 non-null  int64  \n",
      " 5   Item_MRP                   14204 non-null  float64\n",
      " 6   Outlet_Identifier          14204 non-null  int64  \n",
      " 7   Outlet_Establishment_Year  14204 non-null  int64  \n",
      " 8   Outlet_Size                14204 non-null  int64  \n",
      " 9   Outlet_Location_Type       14204 non-null  int64  \n",
      " 10  Outlet_Type                14204 non-null  int64  \n",
      " 11  Item_Outlet_Sales          14204 non-null  float64\n",
      "dtypes: float64(4), int64(7), object(1)\n",
      "memory usage: 1.3+ MB\n"
     ]
    }
   ],
   "source": [
    "data.info()"
   ]
  },
  {
   "cell_type": "markdown",
   "id": "d8a7682a",
   "metadata": {},
   "source": [
    "## Define target(y) and independent (x) variable"
   ]
  },
  {
   "cell_type": "code",
   "execution_count": 338,
   "id": "7e30e201",
   "metadata": {},
   "outputs": [],
   "source": [
    "y=data['Item_Outlet_Sales']\n",
    "x=data.drop(columns=['Item_Outlet_Sales', 'Item_Identifier'])"
   ]
  },
  {
   "cell_type": "code",
   "execution_count": 339,
   "id": "12d281b7",
   "metadata": {},
   "outputs": [
    {
     "data": {
      "text/plain": [
       "(14204,)"
      ]
     },
     "execution_count": 339,
     "metadata": {},
     "output_type": "execute_result"
    }
   ],
   "source": [
    "y.shape"
   ]
  },
  {
   "cell_type": "code",
   "execution_count": 340,
   "id": "ef07b48b",
   "metadata": {},
   "outputs": [
    {
     "data": {
      "text/plain": [
       "(14204, 10)"
      ]
     },
     "execution_count": 340,
     "metadata": {},
     "output_type": "execute_result"
    }
   ],
   "source": [
    "x.shape"
   ]
  },
  {
   "cell_type": "code",
   "execution_count": 341,
   "id": "e117d29b",
   "metadata": {},
   "outputs": [],
   "source": [
    "from sklearn.preprocessing import StandardScaler"
   ]
  },
  {
   "cell_type": "code",
   "execution_count": 342,
   "id": "05497e8a",
   "metadata": {},
   "outputs": [],
   "source": [
    "scale=StandardScaler()"
   ]
  },
  {
   "cell_type": "code",
   "execution_count": 343,
   "id": "90366e04",
   "metadata": {},
   "outputs": [],
   "source": [
    "x_std=data[['Item_Weight', 'Item_Visibility', 'Item_MRP', 'Outlet_Establishment_Year']]"
   ]
  },
  {
   "cell_type": "code",
   "execution_count": 344,
   "id": "eb1dfc0a",
   "metadata": {},
   "outputs": [],
   "source": [
    "x_std=scale.fit_transform(x_std)"
   ]
  },
  {
   "cell_type": "code",
   "execution_count": 345,
   "id": "59783cde",
   "metadata": {},
   "outputs": [
    {
     "data": {
      "text/plain": [
       "array([[-0.11541705,  0.88413635, -1.73178716,  0.13968068],\n",
       "       [-0.11541705,  0.89300616, -1.72373366,  1.09531886],\n",
       "       [-0.11541705,  0.88958331, -1.72373366,  1.3342284 ],\n",
       "       ...,\n",
       "       [ 0.00220132,  0.07011952,  1.96538148, -1.29377659],\n",
       "       [ 0.20444792,  0.06469366,  1.97343499, -1.53268614],\n",
       "       [ 0.00220132,  0.07334891,  1.97504569,  0.13968068]])"
      ]
     },
     "execution_count": 345,
     "metadata": {},
     "output_type": "execute_result"
    }
   ],
   "source": [
    "x_std"
   ]
  },
  {
   "cell_type": "code",
   "execution_count": 346,
   "id": "32285ea4",
   "metadata": {},
   "outputs": [],
   "source": [
    "x[['Item_Weight', 'Item_Visibility', 'Item_MRP', 'Outlet_Establishment_Year']]=pd.DataFrame(x_std,columns=[['Item_Weight', 'Item_Visibility', 'Item_MRP', 'Outlet_Establishment_Year']])"
   ]
  },
  {
   "cell_type": "code",
   "execution_count": 347,
   "id": "46faacb2",
   "metadata": {},
   "outputs": [
    {
     "data": {
      "text/html": [
       "<div>\n",
       "<style scoped>\n",
       "    .dataframe tbody tr th:only-of-type {\n",
       "        vertical-align: middle;\n",
       "    }\n",
       "\n",
       "    .dataframe tbody tr th {\n",
       "        vertical-align: top;\n",
       "    }\n",
       "\n",
       "    .dataframe thead th {\n",
       "        text-align: right;\n",
       "    }\n",
       "</style>\n",
       "<table border=\"1\" class=\"dataframe\">\n",
       "  <thead>\n",
       "    <tr style=\"text-align: right;\">\n",
       "      <th></th>\n",
       "      <th>Item_Weight</th>\n",
       "      <th>Item_Fat_Content</th>\n",
       "      <th>Item_Visibility</th>\n",
       "      <th>Item_Type</th>\n",
       "      <th>Item_MRP</th>\n",
       "      <th>Outlet_Identifier</th>\n",
       "      <th>Outlet_Establishment_Year</th>\n",
       "      <th>Outlet_Size</th>\n",
       "      <th>Outlet_Location_Type</th>\n",
       "      <th>Outlet_Type</th>\n",
       "    </tr>\n",
       "  </thead>\n",
       "  <tbody>\n",
       "    <tr>\n",
       "      <th>0</th>\n",
       "      <td>-0.115417</td>\n",
       "      <td>0</td>\n",
       "      <td>0.884136</td>\n",
       "      <td>0</td>\n",
       "      <td>-1.731787</td>\n",
       "      <td>2</td>\n",
       "      <td>0.139681</td>\n",
       "      <td>1</td>\n",
       "      <td>2</td>\n",
       "      <td>1</td>\n",
       "    </tr>\n",
       "    <tr>\n",
       "      <th>1</th>\n",
       "      <td>-0.115417</td>\n",
       "      <td>0</td>\n",
       "      <td>0.893006</td>\n",
       "      <td>0</td>\n",
       "      <td>-1.723734</td>\n",
       "      <td>7</td>\n",
       "      <td>1.095319</td>\n",
       "      <td>1</td>\n",
       "      <td>1</td>\n",
       "      <td>1</td>\n",
       "    </tr>\n",
       "    <tr>\n",
       "      <th>2</th>\n",
       "      <td>-0.115417</td>\n",
       "      <td>0</td>\n",
       "      <td>0.889583</td>\n",
       "      <td>0</td>\n",
       "      <td>-1.723734</td>\n",
       "      <td>6</td>\n",
       "      <td>1.334228</td>\n",
       "      <td>1</td>\n",
       "      <td>0</td>\n",
       "      <td>2</td>\n",
       "    </tr>\n",
       "    <tr>\n",
       "      <th>3</th>\n",
       "      <td>-0.115417</td>\n",
       "      <td>0</td>\n",
       "      <td>-1.281712</td>\n",
       "      <td>0</td>\n",
       "      <td>-1.717291</td>\n",
       "      <td>9</td>\n",
       "      <td>-1.532686</td>\n",
       "      <td>0</td>\n",
       "      <td>2</td>\n",
       "      <td>0</td>\n",
       "    </tr>\n",
       "    <tr>\n",
       "      <th>4</th>\n",
       "      <td>-0.703509</td>\n",
       "      <td>1</td>\n",
       "      <td>-0.397031</td>\n",
       "      <td>0</td>\n",
       "      <td>-1.706016</td>\n",
       "      <td>7</td>\n",
       "      <td>1.095319</td>\n",
       "      <td>1</td>\n",
       "      <td>1</td>\n",
       "      <td>1</td>\n",
       "    </tr>\n",
       "    <tr>\n",
       "      <th>...</th>\n",
       "      <td>...</td>\n",
       "      <td>...</td>\n",
       "      <td>...</td>\n",
       "      <td>...</td>\n",
       "      <td>...</td>\n",
       "      <td>...</td>\n",
       "      <td>...</td>\n",
       "      <td>...</td>\n",
       "      <td>...</td>\n",
       "      <td>...</td>\n",
       "    </tr>\n",
       "    <tr>\n",
       "      <th>14199</th>\n",
       "      <td>0.002201</td>\n",
       "      <td>0</td>\n",
       "      <td>0.070990</td>\n",
       "      <td>0</td>\n",
       "      <td>1.947664</td>\n",
       "      <td>4</td>\n",
       "      <td>0.736955</td>\n",
       "      <td>0</td>\n",
       "      <td>1</td>\n",
       "      <td>1</td>\n",
       "    </tr>\n",
       "    <tr>\n",
       "      <th>14200</th>\n",
       "      <td>0.002201</td>\n",
       "      <td>0</td>\n",
       "      <td>0.078898</td>\n",
       "      <td>0</td>\n",
       "      <td>1.962160</td>\n",
       "      <td>7</td>\n",
       "      <td>1.095319</td>\n",
       "      <td>1</td>\n",
       "      <td>1</td>\n",
       "      <td>1</td>\n",
       "    </tr>\n",
       "    <tr>\n",
       "      <th>14201</th>\n",
       "      <td>0.002201</td>\n",
       "      <td>0</td>\n",
       "      <td>0.070120</td>\n",
       "      <td>0</td>\n",
       "      <td>1.965381</td>\n",
       "      <td>1</td>\n",
       "      <td>-1.293777</td>\n",
       "      <td>2</td>\n",
       "      <td>0</td>\n",
       "      <td>1</td>\n",
       "    </tr>\n",
       "    <tr>\n",
       "      <th>14202</th>\n",
       "      <td>0.204448</td>\n",
       "      <td>0</td>\n",
       "      <td>0.064694</td>\n",
       "      <td>0</td>\n",
       "      <td>1.973435</td>\n",
       "      <td>0</td>\n",
       "      <td>-1.532686</td>\n",
       "      <td>1</td>\n",
       "      <td>0</td>\n",
       "      <td>3</td>\n",
       "    </tr>\n",
       "    <tr>\n",
       "      <th>14203</th>\n",
       "      <td>0.002201</td>\n",
       "      <td>0</td>\n",
       "      <td>0.073349</td>\n",
       "      <td>0</td>\n",
       "      <td>1.975046</td>\n",
       "      <td>2</td>\n",
       "      <td>0.139681</td>\n",
       "      <td>1</td>\n",
       "      <td>2</td>\n",
       "      <td>1</td>\n",
       "    </tr>\n",
       "  </tbody>\n",
       "</table>\n",
       "<p>14204 rows × 10 columns</p>\n",
       "</div>"
      ],
      "text/plain": [
       "       Item_Weight  Item_Fat_Content  Item_Visibility  Item_Type  Item_MRP  \\\n",
       "0        -0.115417                 0         0.884136          0 -1.731787   \n",
       "1        -0.115417                 0         0.893006          0 -1.723734   \n",
       "2        -0.115417                 0         0.889583          0 -1.723734   \n",
       "3        -0.115417                 0        -1.281712          0 -1.717291   \n",
       "4        -0.703509                 1        -0.397031          0 -1.706016   \n",
       "...            ...               ...              ...        ...       ...   \n",
       "14199     0.002201                 0         0.070990          0  1.947664   \n",
       "14200     0.002201                 0         0.078898          0  1.962160   \n",
       "14201     0.002201                 0         0.070120          0  1.965381   \n",
       "14202     0.204448                 0         0.064694          0  1.973435   \n",
       "14203     0.002201                 0         0.073349          0  1.975046   \n",
       "\n",
       "       Outlet_Identifier  Outlet_Establishment_Year  Outlet_Size  \\\n",
       "0                      2                   0.139681            1   \n",
       "1                      7                   1.095319            1   \n",
       "2                      6                   1.334228            1   \n",
       "3                      9                  -1.532686            0   \n",
       "4                      7                   1.095319            1   \n",
       "...                  ...                        ...          ...   \n",
       "14199                  4                   0.736955            0   \n",
       "14200                  7                   1.095319            1   \n",
       "14201                  1                  -1.293777            2   \n",
       "14202                  0                  -1.532686            1   \n",
       "14203                  2                   0.139681            1   \n",
       "\n",
       "       Outlet_Location_Type  Outlet_Type  \n",
       "0                         2            1  \n",
       "1                         1            1  \n",
       "2                         0            2  \n",
       "3                         2            0  \n",
       "4                         1            1  \n",
       "...                     ...          ...  \n",
       "14199                     1            1  \n",
       "14200                     1            1  \n",
       "14201                     0            1  \n",
       "14202                     0            3  \n",
       "14203                     2            1  \n",
       "\n",
       "[14204 rows x 10 columns]"
      ]
     },
     "execution_count": 347,
     "metadata": {},
     "output_type": "execute_result"
    }
   ],
   "source": [
    "x"
   ]
  },
  {
   "cell_type": "markdown",
   "id": "fc7f6b7b",
   "metadata": {},
   "source": [
    "## get train test split "
   ]
  },
  {
   "cell_type": "code",
   "execution_count": 348,
   "id": "0f125609",
   "metadata": {},
   "outputs": [],
   "source": [
    "from sklearn.model_selection import train_test_split"
   ]
  },
  {
   "cell_type": "code",
   "execution_count": 349,
   "id": "90ebd8e0",
   "metadata": {},
   "outputs": [],
   "source": [
    "xtrain, xtest, ytrain,ytest= train_test_split(x,y, test_size=0.1, random_state=345)"
   ]
  },
  {
   "cell_type": "code",
   "execution_count": 350,
   "id": "838be811",
   "metadata": {},
   "outputs": [
    {
     "data": {
      "text/plain": [
       "((12783, 10), (1421, 10), (12783,), (1421,))"
      ]
     },
     "execution_count": 350,
     "metadata": {},
     "output_type": "execute_result"
    }
   ],
   "source": [
    "xtrain.shape, xtest.shape, ytrain.shape,ytest.shape"
   ]
  },
  {
   "cell_type": "markdown",
   "id": "eca3c14e",
   "metadata": {},
   "source": [
    "# train the model "
   ]
  },
  {
   "cell_type": "code",
   "execution_count": 351,
   "id": "5d701dc6",
   "metadata": {},
   "outputs": [],
   "source": [
    "from sklearn.ensemble import RandomForestRegressor"
   ]
  },
  {
   "cell_type": "code",
   "execution_count": 352,
   "id": "cda32bc1",
   "metadata": {},
   "outputs": [],
   "source": [
    "rf=RandomForestRegressor(random_state=3445)"
   ]
  },
  {
   "cell_type": "code",
   "execution_count": 353,
   "id": "29239d2c",
   "metadata": {},
   "outputs": [
    {
     "data": {
      "text/html": [
       "<style>#sk-container-id-3 {color: black;}#sk-container-id-3 pre{padding: 0;}#sk-container-id-3 div.sk-toggleable {background-color: white;}#sk-container-id-3 label.sk-toggleable__label {cursor: pointer;display: block;width: 100%;margin-bottom: 0;padding: 0.3em;box-sizing: border-box;text-align: center;}#sk-container-id-3 label.sk-toggleable__label-arrow:before {content: \"▸\";float: left;margin-right: 0.25em;color: #696969;}#sk-container-id-3 label.sk-toggleable__label-arrow:hover:before {color: black;}#sk-container-id-3 div.sk-estimator:hover label.sk-toggleable__label-arrow:before {color: black;}#sk-container-id-3 div.sk-toggleable__content {max-height: 0;max-width: 0;overflow: hidden;text-align: left;background-color: #f0f8ff;}#sk-container-id-3 div.sk-toggleable__content pre {margin: 0.2em;color: black;border-radius: 0.25em;background-color: #f0f8ff;}#sk-container-id-3 input.sk-toggleable__control:checked~div.sk-toggleable__content {max-height: 200px;max-width: 100%;overflow: auto;}#sk-container-id-3 input.sk-toggleable__control:checked~label.sk-toggleable__label-arrow:before {content: \"▾\";}#sk-container-id-3 div.sk-estimator input.sk-toggleable__control:checked~label.sk-toggleable__label {background-color: #d4ebff;}#sk-container-id-3 div.sk-label input.sk-toggleable__control:checked~label.sk-toggleable__label {background-color: #d4ebff;}#sk-container-id-3 input.sk-hidden--visually {border: 0;clip: rect(1px 1px 1px 1px);clip: rect(1px, 1px, 1px, 1px);height: 1px;margin: -1px;overflow: hidden;padding: 0;position: absolute;width: 1px;}#sk-container-id-3 div.sk-estimator {font-family: monospace;background-color: #f0f8ff;border: 1px dotted black;border-radius: 0.25em;box-sizing: border-box;margin-bottom: 0.5em;}#sk-container-id-3 div.sk-estimator:hover {background-color: #d4ebff;}#sk-container-id-3 div.sk-parallel-item::after {content: \"\";width: 100%;border-bottom: 1px solid gray;flex-grow: 1;}#sk-container-id-3 div.sk-label:hover label.sk-toggleable__label {background-color: #d4ebff;}#sk-container-id-3 div.sk-serial::before {content: \"\";position: absolute;border-left: 1px solid gray;box-sizing: border-box;top: 0;bottom: 0;left: 50%;z-index: 0;}#sk-container-id-3 div.sk-serial {display: flex;flex-direction: column;align-items: center;background-color: white;padding-right: 0.2em;padding-left: 0.2em;position: relative;}#sk-container-id-3 div.sk-item {position: relative;z-index: 1;}#sk-container-id-3 div.sk-parallel {display: flex;align-items: stretch;justify-content: center;background-color: white;position: relative;}#sk-container-id-3 div.sk-item::before, #sk-container-id-3 div.sk-parallel-item::before {content: \"\";position: absolute;border-left: 1px solid gray;box-sizing: border-box;top: 0;bottom: 0;left: 50%;z-index: -1;}#sk-container-id-3 div.sk-parallel-item {display: flex;flex-direction: column;z-index: 1;position: relative;background-color: white;}#sk-container-id-3 div.sk-parallel-item:first-child::after {align-self: flex-end;width: 50%;}#sk-container-id-3 div.sk-parallel-item:last-child::after {align-self: flex-start;width: 50%;}#sk-container-id-3 div.sk-parallel-item:only-child::after {width: 0;}#sk-container-id-3 div.sk-dashed-wrapped {border: 1px dashed gray;margin: 0 0.4em 0.5em 0.4em;box-sizing: border-box;padding-bottom: 0.4em;background-color: white;}#sk-container-id-3 div.sk-label label {font-family: monospace;font-weight: bold;display: inline-block;line-height: 1.2em;}#sk-container-id-3 div.sk-label-container {text-align: center;}#sk-container-id-3 div.sk-container {/* jupyter's `normalize.less` sets `[hidden] { display: none; }` but bootstrap.min.css set `[hidden] { display: none !important; }` so we also need the `!important` here to be able to override the default hidden behavior on the sphinx rendered scikit-learn.org. See: https://github.com/scikit-learn/scikit-learn/issues/21755 */display: inline-block !important;position: relative;}#sk-container-id-3 div.sk-text-repr-fallback {display: none;}</style><div id=\"sk-container-id-3\" class=\"sk-top-container\"><div class=\"sk-text-repr-fallback\"><pre>RandomForestRegressor(random_state=3445)</pre><b>In a Jupyter environment, please rerun this cell to show the HTML representation or trust the notebook. <br />On GitHub, the HTML representation is unable to render, please try loading this page with nbviewer.org.</b></div><div class=\"sk-container\" hidden><div class=\"sk-item\"><div class=\"sk-estimator sk-toggleable\"><input class=\"sk-toggleable__control sk-hidden--visually\" id=\"sk-estimator-id-3\" type=\"checkbox\" checked><label for=\"sk-estimator-id-3\" class=\"sk-toggleable__label sk-toggleable__label-arrow\">RandomForestRegressor</label><div class=\"sk-toggleable__content\"><pre>RandomForestRegressor(random_state=3445)</pre></div></div></div></div></div>"
      ],
      "text/plain": [
       "RandomForestRegressor(random_state=3445)"
      ]
     },
     "execution_count": 353,
     "metadata": {},
     "output_type": "execute_result"
    }
   ],
   "source": [
    "rf.fit(xtrain,ytrain)"
   ]
  },
  {
   "cell_type": "markdown",
   "id": "94e5d24a",
   "metadata": {},
   "source": [
    "## model prediction "
   ]
  },
  {
   "cell_type": "code",
   "execution_count": 354,
   "id": "cb80d886",
   "metadata": {},
   "outputs": [],
   "source": [
    "y_pred=rf.predict(xtest)"
   ]
  },
  {
   "cell_type": "code",
   "execution_count": 355,
   "id": "c5b0e24d",
   "metadata": {},
   "outputs": [
    {
     "data": {
      "text/plain": [
       "(1421,)"
      ]
     },
     "execution_count": 355,
     "metadata": {},
     "output_type": "execute_result"
    }
   ],
   "source": [
    "y_pred.shape"
   ]
  },
  {
   "cell_type": "code",
   "execution_count": 356,
   "id": "299bfd17",
   "metadata": {},
   "outputs": [
    {
     "data": {
      "text/plain": [
       "array([2756.34396401, 3377.82125453,  464.67328855, ..., 5464.7914418 ,\n",
       "       2178.10709637,  453.2821183 ])"
      ]
     },
     "execution_count": 356,
     "metadata": {},
     "output_type": "execute_result"
    }
   ],
   "source": [
    "y_pred"
   ]
  },
  {
   "cell_type": "markdown",
   "id": "70f85fa2",
   "metadata": {},
   "source": [
    "## model evaluation"
   ]
  },
  {
   "cell_type": "code",
   "execution_count": 369,
   "id": "c3ac698e",
   "metadata": {},
   "outputs": [],
   "source": [
    "from sklearn.metrics import mean_squared_error, mean_absolute_error,r2_score, mean_absolute_percentage_error"
   ]
  },
  {
   "cell_type": "code",
   "execution_count": 358,
   "id": "e401a10f",
   "metadata": {},
   "outputs": [
    {
     "data": {
      "text/plain": [
       "1648930.0804958967"
      ]
     },
     "execution_count": 358,
     "metadata": {},
     "output_type": "execute_result"
    }
   ],
   "source": [
    "mean_squared_error(ytest,y_pred)"
   ]
  },
  {
   "cell_type": "code",
   "execution_count": 359,
   "id": "04c25f16",
   "metadata": {},
   "outputs": [
    {
     "data": {
      "text/plain": [
       "849.476111505159"
      ]
     },
     "execution_count": 359,
     "metadata": {},
     "output_type": "execute_result"
    }
   ],
   "source": [
    " mean_absolute_error(ytest,y_pred)"
   ]
  },
  {
   "cell_type": "code",
   "execution_count": 360,
   "id": "407bd324",
   "metadata": {},
   "outputs": [
    {
     "data": {
      "text/plain": [
       "0.47905235742992214"
      ]
     },
     "execution_count": 360,
     "metadata": {},
     "output_type": "execute_result"
    }
   ],
   "source": [
    "r2_score(ytest,y_pred)"
   ]
  },
  {
   "cell_type": "code",
   "execution_count": 370,
   "id": "72c36443",
   "metadata": {},
   "outputs": [
    {
     "data": {
      "text/plain": [
       "0.7353810230376772"
      ]
     },
     "execution_count": 370,
     "metadata": {},
     "output_type": "execute_result"
    }
   ],
   "source": [
    "mape = mean_absolute_percentage_error(ytest, y_pred)\n",
    "mape"
   ]
  },
  {
   "cell_type": "markdown",
   "id": "2ea45eda",
   "metadata": {},
   "source": [
    "## get visualization of actual Vs predicted results"
   ]
  },
  {
   "cell_type": "code",
   "execution_count": 361,
   "id": "146290c1",
   "metadata": {},
   "outputs": [],
   "source": [
    "import matplotlib.pyplot as plt"
   ]
  },
  {
   "cell_type": "code",
   "execution_count": 362,
   "id": "36028649",
   "metadata": {},
   "outputs": [
    {
     "data": {
      "image/png": "[encoded data removed]",
      "text/plain": [
       "<Figure size 640x480 with 1 Axes>"
      ]
     },
     "metadata": {},
     "output_type": "display_data"
    }
   ],
   "source": [
    "plt.scatter(ytest,y_pred)\n",
    "plt.xlabel('Actual prices')\n",
    "plt.ylabel('predicted prices')\n",
    "plt.title('actual price Vs predicted results')\n",
    "plt.show()"
   ]
  },
  {
   "cell_type": "code",
   "execution_count": 367,
   "id": "bd95a828",
   "metadata": {},
   "outputs": [
    {
     "data": {
      "image/png": "[encoded data removed]",
      "text/plain": [
       "<Figure size 640x480 with 1 Axes>"
      ]
     },
     "metadata": {},
     "output_type": "display_data"
    }
   ],
   "source": [
    "sns.regplot(x=ytest, y=y_pred, ci=None, scatter_kws={'s':10}, line_kws={\"color\":\"red\"})\n",
    "plt.xlabel('Actual Prices')\n",
    "plt.ylabel('Predicted Prices')\n",
    "plt.title('Actual Prices vs Predicted Prices')\n",
    "plt.show()"
   ]
  },
  {
   "cell_type": "code",
   "execution_count": 365,
   "id": "bd4b6c66",
   "metadata": {},
   "outputs": [
    {
     "data": {
      "text/plain": [
       "6236     2714.197038\n",
       "9869     4420.912000\n",
       "385       197.076800\n",
       "14061    1644.526000\n",
       "872      1462.795288\n",
       "            ...     \n",
       "4015      664.266603\n",
       "7090     2001.394800\n",
       "12704    5211.240150\n",
       "9342     1518.653304\n",
       "12019     245.014400\n",
       "Name: Item_Outlet_Sales, Length: 1421, dtype: float64"
      ]
     },
     "execution_count": 365,
     "metadata": {},
     "output_type": "execute_result"
    }
   ],
   "source": [
    "ytest"
   ]
  },
  {
   "cell_type": "code",
   "execution_count": 366,
   "id": "e69a7235",
   "metadata": {},
   "outputs": [
    {
     "data": {
      "text/plain": [
       "array([2756.34396401, 3377.82125453,  464.67328855, ..., 5464.7914418 ,\n",
       "       2178.10709637,  453.2821183 ])"
      ]
     },
     "execution_count": 366,
     "metadata": {},
     "output_type": "execute_result"
    }
   ],
   "source": [
    "y_pred"
   ]
  },
  {
   "cell_type": "code",
   "execution_count": null,
   "id": "83edfcf6",
   "metadata": {},
   "outputs": [],
   "source": []
  }
 ],
 "metadata": {
  "kernelspec": {
   "display_name": "Python 3 (ipykernel)",
   "language": "python",
   "name": "python3"
  },
  "language_info": {
   "codemirror_mode": {
    "name": "ipython",
    "version": 3
   },
   "file_extension": ".py",
   "mimetype": "text/x-python",
   "name": "python",
   "nbconvert_exporter": "python",
   "pygments_lexer": "ipython3",
   "version": "3.11.5"
  }
 },
 "nbformat": 4,
 "nbformat_minor": 5
}
